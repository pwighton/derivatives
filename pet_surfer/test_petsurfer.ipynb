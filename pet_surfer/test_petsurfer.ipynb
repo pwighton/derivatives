{
 "cells": [
  {
   "cell_type": "code",
   "execution_count": 64,
   "id": "ranking-strap",
   "metadata": {},
   "outputs": [],
   "source": [
    "# Clone Martin's github branch of nipype (with petsurfer added)\n",
    "# This can be done by using something like \"git clone https://github.com/mnoergaard/nipype.git --branch add_pet_surfer .\""
   ]
  },
  {
   "cell_type": "code",
   "execution_count": 2,
   "id": "greek-butterfly",
   "metadata": {
    "scrolled": false
   },
   "outputs": [
    {
     "name": "stdout",
     "output_type": "stream",
     "text": [
      "Processing /Users/martinnorgaard/Documents/GitHub/nipype\n",
      "Requirement already satisfied: click>=6.6.0 in /Users/martinnorgaard/opt/anaconda3/lib/python3.7/site-packages (from nipype==1.6.1) (7.1.2)\n",
      "Requirement already satisfied: networkx>=2.0 in /Users/martinnorgaard/opt/anaconda3/lib/python3.7/site-packages (from nipype==1.6.1) (2.5)\n",
      "Requirement already satisfied: nibabel>=2.1.0 in /Users/martinnorgaard/opt/anaconda3/lib/python3.7/site-packages (from nipype==1.6.1) (3.2.1)\n",
      "Requirement already satisfied: numpy>=1.15.3 in /Users/martinnorgaard/opt/anaconda3/lib/python3.7/site-packages (from nipype==1.6.1) (1.19.2)\n",
      "Requirement already satisfied: packaging in /Users/martinnorgaard/opt/anaconda3/lib/python3.7/site-packages (from nipype==1.6.1) (20.9)\n",
      "Requirement already satisfied: prov>=1.5.2 in /Users/martinnorgaard/opt/anaconda3/lib/python3.7/site-packages (from nipype==1.6.1) (1.5.3)\n",
      "Requirement already satisfied: pydot>=1.2.3 in /Users/martinnorgaard/.local/lib/python3.7/site-packages (from nipype==1.6.1) (1.4.1)\n",
      "Requirement already satisfied: python-dateutil>=2.2 in /Users/martinnorgaard/opt/anaconda3/lib/python3.7/site-packages (from nipype==1.6.1) (2.8.1)\n",
      "Requirement already satisfied: rdflib>=5.0.0 in /Users/martinnorgaard/opt/anaconda3/lib/python3.7/site-packages (from nipype==1.6.1) (5.0.0)\n",
      "Requirement already satisfied: scipy>=0.14 in /Users/martinnorgaard/opt/anaconda3/lib/python3.7/site-packages (from nipype==1.6.1) (1.6.1)\n",
      "Requirement already satisfied: simplejson>=3.8.0 in /Users/martinnorgaard/opt/anaconda3/lib/python3.7/site-packages (from nipype==1.6.1) (3.17.2)\n",
      "Requirement already satisfied: traits!=5.0,>=4.6 in /Users/martinnorgaard/opt/anaconda3/lib/python3.7/site-packages (from nipype==1.6.1) (6.2.0)\n",
      "Requirement already satisfied: filelock>=3.0.0 in /Users/martinnorgaard/opt/anaconda3/lib/python3.7/site-packages (from nipype==1.6.1) (3.0.12)\n",
      "Requirement already satisfied: etelemetry>=0.2.0 in /Users/martinnorgaard/.local/lib/python3.7/site-packages (from nipype==1.6.1) (0.2.2)\n",
      "Requirement already satisfied: requests in /Users/martinnorgaard/opt/anaconda3/lib/python3.7/site-packages (from etelemetry>=0.2.0->nipype==1.6.1) (2.25.1)\n",
      "Requirement already satisfied: ci-info>=0.2 in /Users/martinnorgaard/opt/anaconda3/lib/python3.7/site-packages (from etelemetry>=0.2.0->nipype==1.6.1) (0.2.0)\n",
      "Requirement already satisfied: decorator>=4.3.0 in /Users/martinnorgaard/opt/anaconda3/lib/python3.7/site-packages (from networkx>=2.0->nipype==1.6.1) (4.4.2)\n",
      "Requirement already satisfied: pyparsing>=2.0.2 in /Users/martinnorgaard/opt/anaconda3/lib/python3.7/site-packages (from packaging->nipype==1.6.1) (2.4.7)\n",
      "Requirement already satisfied: six>=1.9.0 in /Users/martinnorgaard/opt/anaconda3/lib/python3.7/site-packages (from prov>=1.5.2->nipype==1.6.1) (1.15.0)\n",
      "Requirement already satisfied: lxml>=3.3.5 in /Users/martinnorgaard/opt/anaconda3/lib/python3.7/site-packages (from prov>=1.5.2->nipype==1.6.1) (4.6.2)\n",
      "Requirement already satisfied: isodate in /Users/martinnorgaard/opt/anaconda3/lib/python3.7/site-packages (from rdflib>=5.0.0->nipype==1.6.1) (0.6.0)\n",
      "Requirement already satisfied: certifi>=2017.4.17 in /Users/martinnorgaard/opt/anaconda3/lib/python3.7/site-packages (from requests->etelemetry>=0.2.0->nipype==1.6.1) (2020.12.5)\n",
      "Requirement already satisfied: chardet<5,>=3.0.2 in /Users/martinnorgaard/opt/anaconda3/lib/python3.7/site-packages (from requests->etelemetry>=0.2.0->nipype==1.6.1) (4.0.0)\n",
      "Requirement already satisfied: idna<3,>=2.5 in /Users/martinnorgaard/opt/anaconda3/lib/python3.7/site-packages (from requests->etelemetry>=0.2.0->nipype==1.6.1) (2.10)\n",
      "Requirement already satisfied: urllib3<1.27,>=1.21.1 in /Users/martinnorgaard/opt/anaconda3/lib/python3.7/site-packages (from requests->etelemetry>=0.2.0->nipype==1.6.1) (1.26.4)\n",
      "Building wheels for collected packages: nipype\n",
      "  Building wheel for nipype (setup.py) ... \u001b[?25ldone\n",
      "\u001b[?25h  Created wheel for nipype: filename=nipype-1.6.1-py3-none-any.whl size=2760976 sha256=8f6febb60671f8f62f68a2b8da2e91c6c773f33ad5e45ba00d6f5fdca5073fb1\n",
      "  Stored in directory: /private/var/folders/_t/_1ftwh0d6zs569mjhtyj_hn00000gn/T/pip-ephem-wheel-cache-6ko2khff/wheels/a4/f9/12/260edf180463bb4cb1dd616bf1d2cd7cb6ebb7f598b758cde8\n",
      "Successfully built nipype\n",
      "Installing collected packages: nipype\n",
      "  Attempting uninstall: nipype\n",
      "    Found existing installation: nipype 1.6.1\n",
      "    Uninstalling nipype-1.6.1:\n",
      "      Successfully uninstalled nipype-1.6.1\n",
      "Successfully installed nipype-1.6.1\n",
      "\u001b[33mWARNING: You are using pip version 21.0.1; however, version 21.2.4 is available.\n",
      "You should consider upgrading via the '/Users/martinnorgaard/opt/anaconda3/bin/python -m pip install --upgrade pip' command.\u001b[0m\n",
      "Note: you may need to restart the kernel to use updated packages.\n"
     ]
    }
   ],
   "source": [
    "# Navigate to the directory and locally install the nipype branch to test petsurfer\n",
    "pip install -e ."
   ]
  },
  {
   "cell_type": "code",
   "execution_count": 44,
   "id": "alpine-idaho",
   "metadata": {},
   "outputs": [
    {
     "name": "stdout",
     "output_type": "stream",
     "text": [
      "[Errno 2] No such file or directory: '/ds001420/derivatives/sub-01'\n",
      "/Users/martinnorgaard/Documents/GitHub/petprep/petprep/data/ds001420/derivatives/sub-01\n"
     ]
    }
   ],
   "source": [
    "# Go to data folder - this assumes that all steps but mri_gtmpvc has been run to generate the data\n",
    "%cd /ds001420/derivatives/sub-01"
   ]
  },
  {
   "cell_type": "code",
   "execution_count": 4,
   "id": "prostate-nebraska",
   "metadata": {},
   "outputs": [],
   "source": [
    "from nipype.interfaces.freesurfer import petsurfer"
   ]
  },
  {
   "cell_type": "code",
   "execution_count": 43,
   "id": "abandoned-floor",
   "metadata": {},
   "outputs": [
    {
     "data": {
      "text/plain": [
       "'mri_gtmpvc --auto-mask 1.000000 0.100000 --default-seg-merge --i /Users/martinnorgaard/Documents/GitHub/petprep/petprep/data/ds001420/derivatives/sub-01/pet/sub-01_ses-baseline_pet_mcf.nii.gz --km-hb 11 12 50 51 --km-ref 8 47 --no-rescale --o /Users/martinnorgaard/Documents/GitHub/petprep/petprep/data/ds001420/derivatives/sub-01/pet/pvc --psf 4.000000 --reg /Users/martinnorgaard/Documents/GitHub/petprep/petprep/data/ds001420/derivatives/sub-01/pet/sub-01_ses-baseline_pet_mcf_mean_reg.lta --save-input --seg /Users/martinnorgaard/Documents/GitHub/petprep/petprep/data/ds001420/derivatives/sub-01/mri/gtmseg.mgz'"
      ]
     },
     "execution_count": 43,
     "metadata": {},
     "output_type": "execute_result"
    }
   ],
   "source": [
    "cwd = os.getcwd()\n",
    "gtmpvc = petsurfer.GTMPVC()\n",
    "gtmpvc.inputs.in_file = os.path.join(cwd,'pet/sub-01_ses-baseline_pet_mcf.nii.gz')\n",
    "gtmpvc.inputs.segmentation = os.path.join(cwd,'mri/gtmseg.mgz')\n",
    "gtmpvc.inputs.reg_file = os.path.join(cwd,'pet/sub-01_ses-baseline_pet_mcf_mean_reg.lta')\n",
    "gtmpvc.inputs.output_dir = os.path.join(cwd,'pet/pvc')\n",
    "gtmpvc.inputs.psf = 4\n",
    "gtmpvc.inputs.default_seg_merge = True\n",
    "gtmpvc.inputs.auto_mask = (1, 0.1)\n",
    "gtmpvc.inputs.km_ref = ['8 47']\n",
    "gtmpvc.inputs.km_hb = ['11 12 50 51']\n",
    "gtmpvc.inputs.no_rescale = True\n",
    "gtmpvc.inputs.save_input = True\n",
    "gtmpvc.cmdline"
   ]
  },
  {
   "cell_type": "code",
   "execution_count": null,
   "id": "surgical-architecture",
   "metadata": {},
   "outputs": [],
   "source": [
    "gtmpvc.run()"
   ]
  }
 ],
 "metadata": {
  "kernelspec": {
   "display_name": "Python 3",
   "language": "python",
   "name": "python3"
  },
  "language_info": {
   "codemirror_mode": {
    "name": "ipython",
    "version": 3
   },
   "file_extension": ".py",
   "mimetype": "text/x-python",
   "name": "python",
   "nbconvert_exporter": "python",
   "pygments_lexer": "ipython3",
   "version": "3.7.10"
  }
 },
 "nbformat": 4,
 "nbformat_minor": 5
}
